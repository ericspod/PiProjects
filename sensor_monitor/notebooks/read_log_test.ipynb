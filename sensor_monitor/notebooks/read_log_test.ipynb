{
 "cells": [
  {
   "cell_type": "code",
   "execution_count": 1,
   "metadata": {},
   "outputs": [
    {
     "name": "stdout",
     "output_type": "stream",
     "text": [
      "../logs\\sensors.csv\n",
      "855\n",
      "../logs\\sensors_230218_192709.csv\n",
      "4\n",
      "../logs\\sensors_230218_193215.csv\n",
      "3\n",
      "../logs\\sensors_230218_193527.csv\n",
      "1\n",
      "../logs\\sensors_230218_195929.csv\n",
      "6770\n",
      "../logs\\sensors_230223_130154.csv\n",
      "1591\n",
      "../logs\\sensors_230224_151711.csv\n",
      "20798\n",
      "../logs\\sensors_230311_023640.csv\n",
      "22120\n",
      "../logs\\sensors_230507_231802.csv\n",
      "1819169\n",
      "../logs\\sensors_230529_010649.csv\n",
      "3864163\n",
      "../logs\\sensors_230713_112330.csv\n",
      "8602814\n",
      "../logs\\sensors_230713_112330_1.csv\n",
      "6150600\n",
      "../logs\\sensors_bad_color_long.csv\n",
      "149455\n"
     ]
    }
   ],
   "source": [
    "import pandas as pd\n",
    "from glob import glob\n",
    "\n",
    "logs=sorted(glob(\"../logs/*.csv\"))\n",
    "\n",
    "for log in logs:\n",
    "    print(log)\n",
    "    df=pd.read_csv(log)\n",
    "    print(len(df))\n",
    "    "
   ]
  }
 ],
 "metadata": {
  "kernelspec": {
   "display_name": "sensors",
   "language": "python",
   "name": "python3"
  },
  "language_info": {
   "codemirror_mode": {
    "name": "ipython",
    "version": 3
   },
   "file_extension": ".py",
   "mimetype": "text/x-python",
   "name": "python",
   "nbconvert_exporter": "python",
   "pygments_lexer": "ipython3",
   "version": "3.11.5"
  }
 },
 "nbformat": 4,
 "nbformat_minor": 2
}
